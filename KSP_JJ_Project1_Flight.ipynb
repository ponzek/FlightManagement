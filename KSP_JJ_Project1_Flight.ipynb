{
  "nbformat": 4,
  "nbformat_minor": 0,
  "metadata": {
    "colab": {
      "provenance": []
    },
    "kernelspec": {
      "name": "python3",
      "display_name": "Python 3"
    },
    "language_info": {
      "name": "python"
    }
  },
  "cells": [
    {
      "cell_type": "markdown",
      "source": [
        "#Task 4: Data Visualization with Matplotlib\n"
      ],
      "metadata": {
        "id": "nFI4nXKFbRXX"
      }
    },
    {
      "cell_type": "markdown",
      "source": [
        "###a)Write a function plot_age_distribution(df) that:\n",
        "####Plots the distribution of ages using a histogram.\n",
        "###b)Save the plot as age_distribution.png."
      ],
      "metadata": {
        "id": "gLm-WCnscu3f"
      }
    },
    {
      "cell_type": "code",
      "source": [
        "import matplotlib.pyplot as plt\n",
        "import pandas as pd\n",
        "from datetime import datetime"
      ],
      "metadata": {
        "id": "rElEX9g9cRSL"
      },
      "execution_count": 2,
      "outputs": []
    },
    {
      "cell_type": "code",
      "source": [
        "def plot_age_distribution(df):\n",
        "    plt.figure(figsize=(10, 6))\n",
        "    plt.hist(df['Age'], bins=20, edgecolor='black')\n",
        "    plt.title('Age Distribution')\n",
        "    plt.xlabel('Age')\n",
        "    plt.ylabel('Frequency')\n",
        "    plt.savefig('age_distribution.png') #b saving the plot\n",
        "    plt.show()"
      ],
      "metadata": {
        "id": "PY2ZJz_xn5NJ"
      },
      "execution_count": 3,
      "outputs": []
    },
    {
      "cell_type": "markdown",
      "source": [
        "\n",
        "###c)Write a function plot_average_age_by_class(df) that:\n",
        "####Plots the average age by travel class using a bar chart.\n",
        "###d) Save the plot plot as average_age_by_class.png.\n",
        "\n",
        "\n"
      ],
      "metadata": {
        "id": "b-LhcU2Vc53X"
      }
    },
    {
      "cell_type": "code",
      "source": [
        "def plot_average_age_by_class(df):\n",
        "    # calculate average age by travel class\n",
        "    avg_ages = df.groupby('TravelClass')['Age'].mean()\n",
        "\n",
        "    # plot\n",
        "    plt.figure(figsize=(10, 6))\n",
        "    avg_ages.plot(kind='bar', edgecolor='black')\n",
        "    plt.title('Average Age by Travel Class')\n",
        "    plt.xlabel('Travel Class')\n",
        "    plt.ylabel('Average Age')\n",
        "    plt.savefig('average_age_by_class.png')#d saving the plot\n",
        "    plt.show()"
      ],
      "metadata": {
        "id": "UFlY_zEFcEyj"
      },
      "execution_count": 4,
      "outputs": []
    },
    {
      "cell_type": "markdown",
      "source": [
        "#Task 5: Data Visualization with Seaborn and Plotly"
      ],
      "metadata": {
        "id": "egQoE9p8dbHL"
      }
    },
    {
      "cell_type": "code",
      "source": [
        "import seaborn as sns\n",
        "import plotly.express as px"
      ],
      "metadata": {
        "id": "QOM-pSyLfIf9"
      },
      "execution_count": 5,
      "outputs": []
    },
    {
      "cell_type": "markdown",
      "source": [
        "###a) Function plot age vs loyalty(df). plots a scatter plot using Seaborn.\n",
        "####b) saving plot"
      ],
      "metadata": {
        "id": "XYGogrFxfMDf"
      }
    },
    {
      "cell_type": "code",
      "source": [
        "def plot_age_vs_loyalty(df):\n",
        "    plt.figure(figsize=(10, 6))\n",
        "    sns.scatterplot(x='Age', y='LoyaltyMember', data=df)\n",
        "    plt.title('Age vs. Loyalty Membership')\n",
        "    plt.xlabel('Age')\n",
        "    plt.ylabel('Loyalty Membership')\n",
        "    plt.savefig('age_vs_loyalty.png') #b save plot\n",
        "    plt.show()"
      ],
      "metadata": {
        "id": "1ZtQpL45d36t"
      },
      "execution_count": 6,
      "outputs": []
    },
    {
      "cell_type": "markdown",
      "source": [
        "###c) Function plot age distribution by class(df) using boxplot.\n",
        "####d) saving plot"
      ],
      "metadata": {
        "id": "vVx7huFJfsxX"
      }
    },
    {
      "cell_type": "code",
      "source": [
        "def plot_age_distribution_by_class(df):\n",
        "    current_year = datetime.now().year\n",
        "    if 'Birthdate' in df.columns and 'TravelClass' in df.columns:\n",
        "        df['Age'] = current_year - df['Birthdate'].dt.year\n",
        "        fig = px.box(df, x=\"TravelClass\", y=\"Age\", title=\"Age Distribution by Travel Class\")\n",
        "        fig.update_traces(quartilemethod=\"exclusive\")\n",
        "        fig.update_layout(xaxis_title=\"Travel Class\", yaxis_title=\"Age\")\n",
        "        fig.write_image(\"age_distribution_by_class.png\")\n",
        "        fig.show()"
      ],
      "metadata": {
        "id": "N4B3-CjVw0T5"
      },
      "execution_count": 23,
      "outputs": []
    },
    {
      "cell_type": "markdown",
      "source": [
        "#Bonus:\n",
        "###There is an employee_analysis mentioned but this is passenger_analysis.\n",
        "### Let's import everything in."
      ],
      "metadata": {
        "id": "AqkNqcvhkFuF"
      }
    },
    {
      "cell_type": "code",
      "source": [
        " pip install -U kaleido"
      ],
      "metadata": {
        "colab": {
          "base_uri": "https://localhost:8080/",
          "height": 0
        },
        "id": "wCzPonPxrkQC",
        "outputId": "8999ffd4-fca6-4308-a456-ae6cd4d7f90c"
      },
      "execution_count": 9,
      "outputs": [
        {
          "output_type": "stream",
          "name": "stdout",
          "text": [
            "Requirement already satisfied: kaleido in /usr/local/lib/python3.10/dist-packages (0.2.1)\n"
          ]
        }
      ]
    },
    {
      "cell_type": "code",
      "source": [
        "import pandas as pd\n",
        "from datetime import datetime\n",
        "import matplotlib.pyplot as plt\n",
        "import seaborn as sns\n",
        "import numpy as np\n",
        "import plotly.io as pio\n",
        "import plotly.express as px\n",
        "\n",
        "import passenger_analysis"
      ],
      "metadata": {
        "id": "1ZZ4KM_4kFNf"
      },
      "execution_count": 10,
      "outputs": []
    },
    {
      "cell_type": "code",
      "source": [
        "#Let's load our CSV file\n",
        "df = passenger_analysis.load_data('/content/passengers.csv')\n",
        "\n",
        "print(df)"
      ],
      "metadata": {
        "colab": {
          "base_uri": "https://localhost:8080/",
          "height": 0
        },
        "id": "kS90OWghk4Lc",
        "outputId": "45848dcb-a2ac-4ddb-faeb-09bde4771096"
      },
      "execution_count": 14,
      "outputs": [
        {
          "output_type": "stream",
          "name": "stdout",
          "text": [
            "     300          Unnamed: 1  Unnamed: 2   Unnamed: 3  Unnamed: 4 Unnamed: 5\n",
            "0      1            John Doe   5/21/1987  FIRST_CLASS        True      BA249\n",
            "1      2          Jane Smith  11/12/1980     BUSINESS       False      AA100\n",
            "2      3            Mia Wong    3/8/1992      ECONOMY        True      BA255\n",
            "3      4        Noah Johnson   7/19/1995      ECONOMY       False      AA110\n",
            "4      5      Isabella Rossi   8/30/1982  FIRST_CLASS        True      BA249\n",
            "..   ...                 ...         ...          ...         ...        ...\n",
            "295  296        Emily Miller    9/7/1991  FIRST_CLASS       False      BA835\n",
            "296  297      Brandon Wilson  12/30/1974      ECONOMY        True      AA705\n",
            "297  298  Stephanie Martinez   2/23/1987     BUSINESS       False      BA840\n",
            "298  299     David Hernandez   5/18/1995  FIRST_CLASS        True      AA710\n",
            "299  300       Jessica Clark   8/11/1978      ECONOMY       False      BA845\n",
            "\n",
            "[300 rows x 6 columns]\n"
          ]
        }
      ]
    },
    {
      "cell_type": "markdown",
      "source": [
        "###Headers are unnamed let's change that.\n",
        "\n",
        "---\n",
        "\n"
      ],
      "metadata": {
        "id": "u1jzpT1plRWg"
      }
    },
    {
      "cell_type": "code",
      "source": [
        "df.columns = df.columns.str.replace('Unnamed: 1', 'Name')\n",
        "df.columns = df.columns.str.replace('Unnamed: 2', 'Birthdate')\n",
        "df.columns = df.columns.str.replace('Unnamed: 3', 'TravelClass')\n",
        "df.columns = df.columns.str.replace('Unnamed: 4', 'LoyaltyMember')\n",
        "df.columns = df.columns.str.replace('Unnamed: 5', 'FlightNumber')"
      ],
      "metadata": {
        "id": "QdwTn-OtlgyM"
      },
      "execution_count": 15,
      "outputs": []
    },
    {
      "cell_type": "markdown",
      "source": [
        "##Here we will use a function that will determine 'Age' by using the 'Birthdate' and have a new column of 'Age'"
      ],
      "metadata": {
        "id": "PnLDmUZJn_J5"
      }
    },
    {
      "cell_type": "code",
      "source": [
        "# Assume df is your DataFrame and 'Birthdate' is the column with dates\n",
        "\n",
        "# Convert the 'Birthdate' column to datetime format\n",
        "df['Birthdate'] = pd.to_datetime(df['Birthdate'], errors='coerce')\n",
        "\n",
        "# Calculate age from Birthdate\n",
        "def calculate_age(birthdate):\n",
        "    today = datetime.today()\n",
        "    age = today.year - birthdate.year - ((today.month, today.day) < (birthdate.month, birthdate.day))\n",
        "    return age\n",
        "\n",
        "# Create a new column in the DataFrame to store the ages\n",
        "df['Age'] = df['Birthdate'].apply(calculate_age)"
      ],
      "metadata": {
        "id": "DIPBCWP5naUQ"
      },
      "execution_count": 16,
      "outputs": []
    },
    {
      "cell_type": "markdown",
      "source": [
        "###This is to create our new dataset with headers and ages."
      ],
      "metadata": {
        "id": "enzOL58elnmk"
      }
    },
    {
      "cell_type": "code",
      "source": [
        "# Save the updated DataFrame back to a CSV file\n",
        "df = df.to_csv('passengers_ha.csv', index=False)\n",
        "print(df)"
      ],
      "metadata": {
        "colab": {
          "base_uri": "https://localhost:8080/",
          "height": 0
        },
        "id": "i1EeFra4loUe",
        "outputId": "c0c208f8-dfa7-417d-e4ea-2f64468d8026"
      },
      "execution_count": 17,
      "outputs": [
        {
          "output_type": "stream",
          "name": "stdout",
          "text": [
            "None\n"
          ]
        }
      ]
    },
    {
      "cell_type": "markdown",
      "source": [
        "###As we can see there is nothing after we tried see our dataset let's reload with the other CSV file with headers and ages."
      ],
      "metadata": {
        "id": "HspO-Vk9lrfG"
      }
    },
    {
      "cell_type": "code",
      "source": [
        "df = passenger_analysis.load_data('/content/passengers_ha.csv')\n",
        "print(df)"
      ],
      "metadata": {
        "colab": {
          "base_uri": "https://localhost:8080/",
          "height": 0
        },
        "id": "HPYuiCTSlsDk",
        "outputId": "fd4558e3-4415-4ded-a4ec-1ccda970ca66"
      },
      "execution_count": 19,
      "outputs": [
        {
          "output_type": "stream",
          "name": "stdout",
          "text": [
            "     300                Name   Birthdate  TravelClass  LoyaltyMember  \\\n",
            "0      1            John Doe  1987-05-21  FIRST_CLASS           True   \n",
            "1      2          Jane Smith  1980-11-12     BUSINESS          False   \n",
            "2      3            Mia Wong  1992-03-08      ECONOMY           True   \n",
            "3      4        Noah Johnson  1995-07-19      ECONOMY          False   \n",
            "4      5      Isabella Rossi  1982-08-30  FIRST_CLASS           True   \n",
            "..   ...                 ...         ...          ...            ...   \n",
            "295  296        Emily Miller  1991-09-07  FIRST_CLASS          False   \n",
            "296  297      Brandon Wilson  1974-12-30      ECONOMY           True   \n",
            "297  298  Stephanie Martinez  1987-02-23     BUSINESS          False   \n",
            "298  299     David Hernandez  1995-05-18  FIRST_CLASS           True   \n",
            "299  300       Jessica Clark  1978-08-11      ECONOMY          False   \n",
            "\n",
            "    FlightNumber  Age  \n",
            "0          BA249   37  \n",
            "1          AA100   43  \n",
            "2          BA255   32  \n",
            "3          AA110   28  \n",
            "4          BA249   41  \n",
            "..           ...  ...  \n",
            "295        BA835   32  \n",
            "296        AA705   49  \n",
            "297        BA840   37  \n",
            "298        AA710   29  \n",
            "299        BA845   45  \n",
            "\n",
            "[300 rows x 7 columns]\n"
          ]
        }
      ]
    },
    {
      "cell_type": "code",
      "source": [
        "print(df.dtypes)"
      ],
      "metadata": {
        "colab": {
          "base_uri": "https://localhost:8080/",
          "height": 0
        },
        "id": "8nU8Hkjil3NV",
        "outputId": "e3bdf61d-4049-41b8-c5ac-0b38d7d95abb"
      },
      "execution_count": 20,
      "outputs": [
        {
          "output_type": "stream",
          "name": "stdout",
          "text": [
            "300               int64\n",
            "Name             object\n",
            "Birthdate        object\n",
            "TravelClass      object\n",
            "LoyaltyMember      bool\n",
            "FlightNumber     object\n",
            "Age               int64\n",
            "dtype: object\n"
          ]
        }
      ]
    },
    {
      "cell_type": "code",
      "source": [
        "import passenger_analysis\n",
        "\n",
        "def main():\n",
        "    df = passenger_analysis.load_data('passengers_ha.csv')\n",
        "    df = passenger_analysis.clean_data(df)\n",
        "\n",
        "    # Plot age distribution\n",
        "    plot_age_distribution(df)\n",
        "\n",
        "    # Plot average age by class\n",
        "    plot_average_age_by_class(df)\n",
        "\n",
        "    # Plot age vs. loyalty\n",
        "    plot_age_vs_loyalty(df)\n",
        "\n",
        "    # Plot age distribution by class\n",
        "    plot_age_distribution_by_class(df)\n",
        "\n",
        "    # Class Stats\n",
        "    print(passenger_analysis.get_class_statistics(df))\n",
        "\n",
        "if __name__ == \"__main__\":\n",
        "    main()\n"
      ],
      "metadata": {
        "colab": {
          "base_uri": "https://localhost:8080/",
          "height": 1607
        },
        "id": "S6d27IQDmKLk",
        "outputId": "c1acd4ea-6b3a-4714-e09a-26d4b74b0536"
      },
      "execution_count": 26,
      "outputs": [
        {
          "output_type": "display_data",
          "data": {
            "text/plain": [
              "<Figure size 1000x600 with 1 Axes>"
            ],
            "image/png": "[encoded data removed]"
          },
          "metadata": {}
        },
        {
          "output_type": "display_data",
          "data": {
            "text/plain": [
              "<Figure size 1000x600 with 1 Axes>"
            ],
            "image/png": "[encoded data removed]"
          },
          "metadata": {}
        },
        {
          "output_type": "display_data",
          "data": {
            "text/plain": [
              "<Figure size 1000x600 with 1 Axes>"
            ],
            "image/png": "[encoded data removed]"
          },
          "metadata": {}
        },
        {
          "output_type": "display_data",
          "data": {
            "text/html": [
              "<html>\n",
              "<head><meta charset=\"utf-8\" /></head>\n",
              "<body>\n",
              "    <div>            <script src=\"https://cdnjs.cloudflare.com/ajax/libs/mathjax/2.7.5/MathJax.js?config=TeX-AMS-MML_SVG\"></script><script type=\"text/javascript\">if (window.MathJax && window.MathJax.Hub && window.MathJax.Hub.Config) {window.MathJax.Hub.Config({SVG: {font: \"STIX-Web\"}});}</script>                <script type=\"text/javascript\">window.PlotlyConfig = {MathJaxConfig: 'local'};</script>\n",
              "        <script charset=\"utf-8\" src=\"https://cdn.plot.ly/plotly-2.24.1.min.js\"></script>                <div id=\"f19292c9-99fa-4ff0-a8bb-361400761178\" class=\"plotly-graph-div\" style=\"height:525px; width:100%;\"></div>            <script type=\"text/javascript\">                                    window.PLOTLYENV=window.PLOTLYENV || {};                                    if (document.getElementById(\"f19292c9-99fa-4ff0-a8bb-361400761178\")) {                    Plotly.newPlot(                        \"f19292c9-99fa-4ff0-a8bb-361400761178\",                        [{\"alignmentgroup\":\"True\",\"hovertemplate\":\"TravelClass=%{x}\\u003cbr\\u003eAge=%{y}\\u003cextra\\u003e\\u003c\\u002fextra\\u003e\",\"legendgroup\":\"\",\"marker\":{\"color\":\"#636efa\"},\"name\":\"\",\"notched\":false,\"offsetgroup\":\"\",\"orientation\":\"v\",\"showlegend\":false,\"x\":[\"FIRST_CLASS\",\"BUSINESS\",\"ECONOMY\",\"ECONOMY\",\"FIRST_CLASS\",\"BUSINESS\",\"ECONOMY\",\"FIRST_CLASS\",\"ECONOMY\",\"BUSINESS\",\"FIRST_CLASS\",\"ECONOMY\",\"FIRST_CLASS\",\"BUSINESS\",\"ECONOMY\",\"BUSINESS\",\"FIRST_CLASS\",\"ECONOMY\",\"BUSINESS\",\"FIRST_CLASS\",\"ECONOMY\",\"BUSINESS\",\"ECONOMY\",\"FIRST_CLASS\",\"ECONOMY\",\"BUSINESS\",\"FIRST_CLASS\",\"ECONOMY\",\"BUSINESS\",\"FIRST_CLASS\",\"ECONOMY\",\"BUSINESS\",\"FIRST_CLASS\",\"ECONOMY\",\"BUSINESS\",\"FIRST_CLASS\",\"ECONOMY\",\"BUSINESS\",\"FIRST_CLASS\",\"ECONOMY\",\"FIRST_CLASS\",\"ECONOMY\",\"BUSINESS\",\"FIRST_CLASS\",\"ECONOMY\",\"BUSINESS\",\"FIRST_CLASS\",\"ECONOMY\",\"BUSINESS\",\"FIRST_CLASS\",\"ECONOMY\",\"BUSINESS\",\"FIRST_CLASS\",\"ECONOMY\",\"BUSINESS\",\"FIRST_CLASS\",\"ECONOMY\",\"BUSINESS\",\"FIRST_CLASS\",\"ECONOMY\",\"BUSINESS\",\"FIRST_CLASS\",\"ECONOMY\",\"BUSINESS\",\"FIRST_CLASS\",\"ECONOMY\",\"BUSINESS\",\"FIRST_CLASS\",\"ECONOMY\",\"BUSINESS\",\"FIRST_CLASS\",\"ECONOMY\",\"BUSINESS\",\"FIRST_CLASS\",\"ECONOMY\",\"BUSINESS\",\"FIRST_CLASS\",\"ECONOMY\",\"BUSINESS\",\"FIRST_CLASS\",\"ECONOMY\",\"BUSINESS\",\"FIRST_CLASS\",\"ECONOMY\",\"BUSINESS\",\"FIRST_CLASS\",\"ECONOMY\",\"BUSINESS\",\"FIRST_CLASS\",\"ECONOMY\",\"BUSINESS\",\"FIRST_CLASS\",\"ECONOMY\",\"BUSINESS\",\"FIRST_CLASS\",\"ECONOMY\",\"BUSINESS\",\"FIRST_CLASS\",\"ECONOMY\",\"BUSINESS\",\"FIRST_CLASS\",\"ECONOMY\",\"BUSINESS\",\"FIRST_CLASS\",\"ECONOMY\",\"BUSINESS\",\"FIRST_CLASS\",\"ECONOMY\",\"BUSINESS\",\"FIRST_CLASS\",\"ECONOMY\",\"BUSINESS\",\"FIRST_CLASS\",\"ECONOMY\",\"BUSINESS\",\"FIRST_CLASS\",\"ECONOMY\",\"BUSINESS\",\"FIRST_CLASS\",\"ECONOMY\",\"BUSINESS\",\"FIRST_CLASS\",\"ECONOMY\",\"BUSINESS\",\"FIRST_CLASS\",\"ECONOMY\",\"BUSINESS\",\"FIRST_CLASS\",\"ECONOMY\",\"BUSINESS\",\"FIRST_CLASS\",\"ECONOMY\",\"BUSINESS\",\"FIRST_CLASS\",\"ECONOMY\",\"BUSINESS\",\"FIRST_CLASS\",\"ECONOMY\",\"BUSINESS\",\"FIRST_CLASS\",\"ECONOMY\",\"BUSINESS\",\"FIRST_CLASS\",\"ECONOMY\",\"BUSINESS\",\"FIRST_CLASS\",\"ECONOMY\",\"BUSINESS\",\"FIRST_CLASS\",\"ECONOMY\",\"BUSINESS\",\"FIRST_CLASS\",\"ECONOMY\",\"BUSINESS\",\"FIRST_CLASS\",\"ECONOMY\",\"BUSINESS\",\"FIRST_CLASS\",\"ECONOMY\",\"BUSINESS\",\"FIRST_CLASS\",\"ECONOMY\",\"BUSINESS\",\"FIRST_CLASS\",\"ECONOMY\",\"BUSINESS\",\"FIRST_CLASS\",\"ECONOMY\",\"BUSINESS\",\"FIRST_CLASS\",\"ECONOMY\",\"BUSINESS\",\"FIRST_CLASS\",\"ECONOMY\",\"BUSINESS\",\"FIRST_CLASS\",\"ECONOMY\",\"BUSINESS\",\"FIRST_CLASS\",\"ECONOMY\",\"BUSINESS\",\"FIRST_CLASS\",\"ECONOMY\",\"BUSINESS\",\"FIRST_CLASS\",\"ECONOMY\",\"BUSINESS\",\"FIRST_CLASS\",\"ECONOMY\",\"BUSINESS\",\"FIRST_CLASS\",\"ECONOMY\",\"BUSINESS\",\"FIRST_CLASS\",\"ECONOMY\",\"BUSINESS\",\"FIRST_CLASS\",\"ECONOMY\",\"BUSINESS\",\"FIRST_CLASS\",\"ECONOMY\",\"BUSINESS\",\"FIRST_CLASS\",\"ECONOMY\",\"BUSINESS\",\"FIRST_CLASS\",\"ECONOMY\",\"BUSINESS\",\"FIRST_CLASS\",\"ECONOMY\",\"BUSINESS\",\"FIRST_CLASS\",\"ECONOMY\",\"BUSINESS\",\"FIRST_CLASS\",\"ECONOMY\",\"BUSINESS\",\"FIRST_CLASS\",\"ECONOMY\",\"BUSINESS\",\"FIRST_CLASS\",\"ECONOMY\",\"BUSINESS\",\"FIRST_CLASS\",\"ECONOMY\",\"BUSINESS\",\"FIRST_CLASS\",\"ECONOMY\",\"BUSINESS\",\"FIRST_CLASS\",\"ECONOMY\",\"BUSINESS\",\"FIRST_CLASS\",\"ECONOMY\",\"BUSINESS\",\"FIRST_CLASS\",\"ECONOMY\",\"BUSINESS\",\"FIRST_CLASS\",\"ECONOMY\",\"BUSINESS\",\"FIRST_CLASS\",\"ECONOMY\",\"BUSINESS\",\"FIRST_CLASS\",\"ECONOMY\",\"BUSINESS\",\"FIRST_CLASS\",\"ECONOMY\",\"BUSINESS\",\"FIRST_CLASS\",\"ECONOMY\",\"BUSINESS\",\"FIRST_CLASS\",\"ECONOMY\",\"BUSINESS\",\"FIRST_CLASS\",\"ECONOMY\",\"BUSINESS\",\"FIRST_CLASS\",\"ECONOMY\",\"BUSINESS\",\"FIRST_CLASS\",\"ECONOMY\",\"BUSINESS\",\"FIRST_CLASS\",\"ECONOMY\",\"BUSINESS\",\"FIRST_CLASS\",\"ECONOMY\",\"BUSINESS\",\"FIRST_CLASS\",\"ECONOMY\",\"BUSINESS\",\"FIRST_CLASS\",\"ECONOMY\",\"BUSINESS\",\"FIRST_CLASS\",\"ECONOMY\",\"BUSINESS\",\"FIRST_CLASS\",\"ECONOMY\",\"BUSINESS\",\"FIRST_CLASS\",\"ECONOMY\",\"BUSINESS\",\"FIRST_CLASS\",\"ECONOMY\",\"BUSINESS\",\"FIRST_CLASS\",\"ECONOMY\",\"BUSINESS\",\"FIRST_CLASS\",\"ECONOMY\",\"BUSINESS\",\"FIRST_CLASS\",\"ECONOMY\",\"BUSINESS\",\"FIRST_CLASS\",\"ECONOMY\"],\"x0\":\" \",\"xaxis\":\"x\",\"y\":[37,44,32,29,42,49,59,46,56,34,40,54,53,36,35,51,30,41,52,34,33,55,37,46,38,29,52,30,44,47,31,35,39,34,41,38,45,33,42,34,50,31,39,30,57,28,53,41,37,55,46,54,32,40,49,38,52,56,34,43,31,45,50,42,36,33,54,59,40,29,44,56,52,35,49,38,45,37,31,44,53,51,30,39,34,48,46,55,42,33,41,59,32,37,54,51,40,29,43,50,36,47,34,53,41,48,32,44,49,28,45,36,51,43,31,48,40,34,52,38,46,29,35,54,42,33,47,39,45,50,31,53,44,36,51,30,42,49,33,54,37,45,34,40,48,51,29,43,47,32,54,39,28,53,36,51,34,42,49,31,45,38,52,43,29,50,37,45,34,51,39,48,30,46,41,33,54,38,45,31,53,36,49,34,50,42,29,46,38,52,31,47,35,51,43,28,54,40,32,48,37,45,29,53,41,34,49,38,52,31,44,48,33,50,35,28,47,41,36,49,30,43,54,34,47,39,31,45,53,37,28,50,41,34,46,29,52,38,31,45,40,33,48,35,52,29,43,47,34,50,41,28,53,39,32,48,44,31,46,35,49,34,40,27,52,37,30,43,48,33,36,52,45,28,53,39,34,50,41,46,29,43,52,31,37,49,34,40,53,28,45,36,30,49,42,33,50,37,29,46],\"y0\":\" \",\"yaxis\":\"y\",\"type\":\"box\",\"quartilemethod\":\"exclusive\"}],                        {\"template\":{\"data\":{\"histogram2dcontour\":[{\"type\":\"histogram2dcontour\",\"colorbar\":{\"outlinewidth\":0,\"ticks\":\"\"},\"colorscale\":[[0.0,\"#0d0887\"],[0.1111111111111111,\"#46039f\"],[0.2222222222222222,\"#7201a8\"],[0.3333333333333333,\"#9c179e\"],[0.4444444444444444,\"#bd3786\"],[0.5555555555555556,\"#d8576b\"],[0.6666666666666666,\"#ed7953\"],[0.7777777777777778,\"#fb9f3a\"],[0.8888888888888888,\"#fdca26\"],[1.0,\"#f0f921\"]]}],\"choropleth\":[{\"type\":\"choropleth\",\"colorbar\":{\"outlinewidth\":0,\"ticks\":\"\"}}],\"histogram2d\":[{\"type\":\"histogram2d\",\"colorbar\":{\"outlinewidth\":0,\"ticks\":\"\"},\"colorscale\":[[0.0,\"#0d0887\"],[0.1111111111111111,\"#46039f\"],[0.2222222222222222,\"#7201a8\"],[0.3333333333333333,\"#9c179e\"],[0.4444444444444444,\"#bd3786\"],[0.5555555555555556,\"#d8576b\"],[0.6666666666666666,\"#ed7953\"],[0.7777777777777778,\"#fb9f3a\"],[0.8888888888888888,\"#fdca26\"],[1.0,\"#f0f921\"]]}],\"heatmap\":[{\"type\":\"heatmap\",\"colorbar\":{\"outlinewidth\":0,\"ticks\":\"\"},\"colorscale\":[[0.0,\"#0d0887\"],[0.1111111111111111,\"#46039f\"],[0.2222222222222222,\"#7201a8\"],[0.3333333333333333,\"#9c179e\"],[0.4444444444444444,\"#bd3786\"],[0.5555555555555556,\"#d8576b\"],[0.6666666666666666,\"#ed7953\"],[0.7777777777777778,\"#fb9f3a\"],[0.8888888888888888,\"#fdca26\"],[1.0,\"#f0f921\"]]}],\"heatmapgl\":[{\"type\":\"heatmapgl\",\"colorbar\":{\"outlinewidth\":0,\"ticks\":\"\"},\"colorscale\":[[0.0,\"#0d0887\"],[0.1111111111111111,\"#46039f\"],[0.2222222222222222,\"#7201a8\"],[0.3333333333333333,\"#9c179e\"],[0.4444444444444444,\"#bd3786\"],[0.5555555555555556,\"#d8576b\"],[0.6666666666666666,\"#ed7953\"],[0.7777777777777778,\"#fb9f3a\"],[0.8888888888888888,\"#fdca26\"],[1.0,\"#f0f921\"]]}],\"contourcarpet\":[{\"type\":\"contourcarpet\",\"colorbar\":{\"outlinewidth\":0,\"ticks\":\"\"}}],\"contour\":[{\"type\":\"contour\",\"colorbar\":{\"outlinewidth\":0,\"ticks\":\"\"},\"colorscale\":[[0.0,\"#0d0887\"],[0.1111111111111111,\"#46039f\"],[0.2222222222222222,\"#7201a8\"],[0.3333333333333333,\"#9c179e\"],[0.4444444444444444,\"#bd3786\"],[0.5555555555555556,\"#d8576b\"],[0.6666666666666666,\"#ed7953\"],[0.7777777777777778,\"#fb9f3a\"],[0.8888888888888888,\"#fdca26\"],[1.0,\"#f0f921\"]]}],\"surface\":[{\"type\":\"surface\",\"colorbar\":{\"outlinewidth\":0,\"ticks\":\"\"},\"colorscale\":[[0.0,\"#0d0887\"],[0.1111111111111111,\"#46039f\"],[0.2222222222222222,\"#7201a8\"],[0.3333333333333333,\"#9c179e\"],[0.4444444444444444,\"#bd3786\"],[0.5555555555555556,\"#d8576b\"],[0.6666666666666666,\"#ed7953\"],[0.7777777777777778,\"#fb9f3a\"],[0.8888888888888888,\"#fdca26\"],[1.0,\"#f0f921\"]]}],\"mesh3d\":[{\"type\":\"mesh3d\",\"colorbar\":{\"outlinewidth\":0,\"ticks\":\"\"}}],\"scatter\":[{\"fillpattern\":{\"fillmode\":\"overlay\",\"size\":10,\"solidity\":0.2},\"type\":\"scatter\"}],\"parcoords\":[{\"type\":\"parcoords\",\"line\":{\"colorbar\":{\"outlinewidth\":0,\"ticks\":\"\"}}}],\"scatterpolargl\":[{\"type\":\"scatterpolargl\",\"marker\":{\"colorbar\":{\"outlinewidth\":0,\"ticks\":\"\"}}}],\"bar\":[{\"error_x\":{\"color\":\"#2a3f5f\"},\"error_y\":{\"color\":\"#2a3f5f\"},\"marker\":{\"line\":{\"color\":\"#E5ECF6\",\"width\":0.5},\"pattern\":{\"fillmode\":\"overlay\",\"size\":10,\"solidity\":0.2}},\"type\":\"bar\"}],\"scattergeo\":[{\"type\":\"scattergeo\",\"marker\":{\"colorbar\":{\"outlinewidth\":0,\"ticks\":\"\"}}}],\"scatterpolar\":[{\"type\":\"scatterpolar\",\"marker\":{\"colorbar\":{\"outlinewidth\":0,\"ticks\":\"\"}}}],\"histogram\":[{\"marker\":{\"pattern\":{\"fillmode\":\"overlay\",\"size\":10,\"solidity\":0.2}},\"type\":\"histogram\"}],\"scattergl\":[{\"type\":\"scattergl\",\"marker\":{\"colorbar\":{\"outlinewidth\":0,\"ticks\":\"\"}}}],\"scatter3d\":[{\"type\":\"scatter3d\",\"line\":{\"colorbar\":{\"outlinewidth\":0,\"ticks\":\"\"}},\"marker\":{\"colorbar\":{\"outlinewidth\":0,\"ticks\":\"\"}}}],\"scattermapbox\":[{\"type\":\"scattermapbox\",\"marker\":{\"colorbar\":{\"outlinewidth\":0,\"ticks\":\"\"}}}],\"scatterternary\":[{\"type\":\"scatterternary\",\"marker\":{\"colorbar\":{\"outlinewidth\":0,\"ticks\":\"\"}}}],\"scattercarpet\":[{\"type\":\"scattercarpet\",\"marker\":{\"colorbar\":{\"outlinewidth\":0,\"ticks\":\"\"}}}],\"carpet\":[{\"aaxis\":{\"endlinecolor\":\"#2a3f5f\",\"gridcolor\":\"white\",\"linecolor\":\"white\",\"minorgridcolor\":\"white\",\"startlinecolor\":\"#2a3f5f\"},\"baxis\":{\"endlinecolor\":\"#2a3f5f\",\"gridcolor\":\"white\",\"linecolor\":\"white\",\"minorgridcolor\":\"white\",\"startlinecolor\":\"#2a3f5f\"},\"type\":\"carpet\"}],\"table\":[{\"cells\":{\"fill\":{\"color\":\"#EBF0F8\"},\"line\":{\"color\":\"white\"}},\"header\":{\"fill\":{\"color\":\"#C8D4E3\"},\"line\":{\"color\":\"white\"}},\"type\":\"table\"}],\"barpolar\":[{\"marker\":{\"line\":{\"color\":\"#E5ECF6\",\"width\":0.5},\"pattern\":{\"fillmode\":\"overlay\",\"size\":10,\"solidity\":0.2}},\"type\":\"barpolar\"}],\"pie\":[{\"automargin\":true,\"type\":\"pie\"}]},\"layout\":{\"autotypenumbers\":\"strict\",\"colorway\":[\"#636efa\",\"#EF553B\",\"#00cc96\",\"#ab63fa\",\"#FFA15A\",\"#19d3f3\",\"#FF6692\",\"#B6E880\",\"#FF97FF\",\"#FECB52\"],\"font\":{\"color\":\"#2a3f5f\"},\"hovermode\":\"closest\",\"hoverlabel\":{\"align\":\"left\"},\"paper_bgcolor\":\"white\",\"plot_bgcolor\":\"#E5ECF6\",\"polar\":{\"bgcolor\":\"#E5ECF6\",\"angularaxis\":{\"gridcolor\":\"white\",\"linecolor\":\"white\",\"ticks\":\"\"},\"radialaxis\":{\"gridcolor\":\"white\",\"linecolor\":\"white\",\"ticks\":\"\"}},\"ternary\":{\"bgcolor\":\"#E5ECF6\",\"aaxis\":{\"gridcolor\":\"white\",\"linecolor\":\"white\",\"ticks\":\"\"},\"baxis\":{\"gridcolor\":\"white\",\"linecolor\":\"white\",\"ticks\":\"\"},\"caxis\":{\"gridcolor\":\"white\",\"linecolor\":\"white\",\"ticks\":\"\"}},\"coloraxis\":{\"colorbar\":{\"outlinewidth\":0,\"ticks\":\"\"}},\"colorscale\":{\"sequential\":[[0.0,\"#0d0887\"],[0.1111111111111111,\"#46039f\"],[0.2222222222222222,\"#7201a8\"],[0.3333333333333333,\"#9c179e\"],[0.4444444444444444,\"#bd3786\"],[0.5555555555555556,\"#d8576b\"],[0.6666666666666666,\"#ed7953\"],[0.7777777777777778,\"#fb9f3a\"],[0.8888888888888888,\"#fdca26\"],[1.0,\"#f0f921\"]],\"sequentialminus\":[[0.0,\"#0d0887\"],[0.1111111111111111,\"#46039f\"],[0.2222222222222222,\"#7201a8\"],[0.3333333333333333,\"#9c179e\"],[0.4444444444444444,\"#bd3786\"],[0.5555555555555556,\"#d8576b\"],[0.6666666666666666,\"#ed7953\"],[0.7777777777777778,\"#fb9f3a\"],[0.8888888888888888,\"#fdca26\"],[1.0,\"#f0f921\"]],\"diverging\":[[0,\"#8e0152\"],[0.1,\"#c51b7d\"],[0.2,\"#de77ae\"],[0.3,\"#f1b6da\"],[0.4,\"#fde0ef\"],[0.5,\"#f7f7f7\"],[0.6,\"#e6f5d0\"],[0.7,\"#b8e186\"],[0.8,\"#7fbc41\"],[0.9,\"#4d9221\"],[1,\"#276419\"]]},\"xaxis\":{\"gridcolor\":\"white\",\"linecolor\":\"white\",\"ticks\":\"\",\"title\":{\"standoff\":15},\"zerolinecolor\":\"white\",\"automargin\":true,\"zerolinewidth\":2},\"yaxis\":{\"gridcolor\":\"white\",\"linecolor\":\"white\",\"ticks\":\"\",\"title\":{\"standoff\":15},\"zerolinecolor\":\"white\",\"automargin\":true,\"zerolinewidth\":2},\"scene\":{\"xaxis\":{\"backgroundcolor\":\"#E5ECF6\",\"gridcolor\":\"white\",\"linecolor\":\"white\",\"showbackground\":true,\"ticks\":\"\",\"zerolinecolor\":\"white\",\"gridwidth\":2},\"yaxis\":{\"backgroundcolor\":\"#E5ECF6\",\"gridcolor\":\"white\",\"linecolor\":\"white\",\"showbackground\":true,\"ticks\":\"\",\"zerolinecolor\":\"white\",\"gridwidth\":2},\"zaxis\":{\"backgroundcolor\":\"#E5ECF6\",\"gridcolor\":\"white\",\"linecolor\":\"white\",\"showbackground\":true,\"ticks\":\"\",\"zerolinecolor\":\"white\",\"gridwidth\":2}},\"shapedefaults\":{\"line\":{\"color\":\"#2a3f5f\"}},\"annotationdefaults\":{\"arrowcolor\":\"#2a3f5f\",\"arrowhead\":0,\"arrowwidth\":1},\"geo\":{\"bgcolor\":\"white\",\"landcolor\":\"#E5ECF6\",\"subunitcolor\":\"white\",\"showland\":true,\"showlakes\":true,\"lakecolor\":\"white\"},\"title\":{\"x\":0.05},\"mapbox\":{\"style\":\"light\"}}},\"xaxis\":{\"anchor\":\"y\",\"domain\":[0.0,1.0],\"title\":{\"text\":\"Travel Class\"}},\"yaxis\":{\"anchor\":\"x\",\"domain\":[0.0,1.0],\"title\":{\"text\":\"Age\"}},\"legend\":{\"tracegroupgap\":0},\"title\":{\"text\":\"Age Distribution by Travel Class\"},\"boxmode\":\"group\"},                        {\"responsive\": true}                    ).then(function(){\n",
              "                            \n",
              "var gd = document.getElementById('f19292c9-99fa-4ff0-a8bb-361400761178');\n",
              "var x = new MutationObserver(function (mutations, observer) {{\n",
              "        var display = window.getComputedStyle(gd).display;\n",
              "        if (!display || display === 'none') {{\n",
              "            console.log([gd, 'removed!']);\n",
              "            Plotly.purge(gd);\n",
              "            observer.disconnect();\n",
              "        }}\n",
              "}});\n",
              "\n",
              "// Listen for the removal of the full notebook cells\n",
              "var notebookContainer = gd.closest('#notebook-container');\n",
              "if (notebookContainer) {{\n",
              "    x.observe(notebookContainer, {childList: true});\n",
              "}}\n",
              "\n",
              "// Listen for the clearing of the current output cell\n",
              "var outputEl = gd.closest('.output');\n",
              "if (outputEl) {{\n",
              "    x.observe(outputEl, {childList: true});\n",
              "}}\n",
              "\n",
              "                        })                };                            </script>        </div>\n",
              "</body>\n",
              "</html>"
            ]
          },
          "metadata": {}
        },
        {
          "output_type": "stream",
          "name": "stdout",
          "text": [
            "{'FIRST_CLASS': {'Average Age': 40.87, 'Loyalty Members': 53}, 'BUSINESS': {'Average Age': 42.57142857142857, 'Loyalty Members': 47}, 'ECONOMY': {'Average Age': 40.86274509803921, 'Loyalty Members': 54}}\n"
          ]
        }
      ]
    },
    {
      "cell_type": "markdown",
      "source": [
        "##This is the result of get_class_statistics\n",
        "###{'FIRST_CLASS': {'Average Age': 40.87, 'Loyalty Members': 53}, 'BUSINESS': {'Average Age': 42.57142857142857, 'Loyalty Members': 47}, 'ECONOMY': {'Average Age': 40.86274509803921, 'Loyalty Members': 54}}"
      ],
      "metadata": {
        "id": "dfAgY_nZ1JT5"
      }
    }
  ]
}